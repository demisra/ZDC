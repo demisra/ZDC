{
 "cells": [
  {
   "cell_type": "code",
   "execution_count": 1,
   "metadata": {},
   "outputs": [],
   "source": [
    "import uproot as ur\n",
    "import matplotlib.pyplot as plt\n",
    "import numpy as np\n",
    "import scipy as sp\n",
    "import sklearn as sk"
   ]
  },
  {
   "cell_type": "code",
   "execution_count": 111,
   "metadata": {},
   "outputs": [],
   "source": [
    "#Get data from ROOT file\n",
    "file = ur.open(\"/mnt/scratch3/dmisra/zdcdata_current/zdc_neutron_100GeV_10e4.edm4hep.root\")\n",
    "tree = file[\"events\"]\n",
    "branches = tree.arrays()"
   ]
  },
  {
   "cell_type": "code",
   "execution_count": null,
   "metadata": {},
   "outputs": [],
   "source": [
    "crossingangle = -0.025\n",
    "\n",
    "SiliconHits_z = branches[\"ZDC_SiliconPix_Hits.position.z\"]\n",
    "CrystalHits_z = branches[\"ZDCEcalHits.position.z\"]\n",
    "WSiHits_z = branches[\"ZDC_WSi_Hits.position.z\"]\n",
    "PbScintiHits_z = branches[\"ZDCHcalHits.position.z\"]\n",
    "PbSiHits_z = branches[\"ZDC_PbSi_Hits.position.z\"]\n",
    "\n",
    "SiliconHits_x = branches[\"ZDC_SiliconPix_Hits.position.x\"]\n",
    "CrystalHits_x = branches[\"ZDCEcalHits.position.x\"]\n",
    "WSiHits_x = branches[\"ZDC_WSi_Hits.position.x\"]\n",
    "PbScintiHits_x = branches[\"ZDCHcalHits.position.x\"]\n",
    "PbSiHits_x = branches[\"ZDC_PbSi_Hits.position.x\"]\n",
    "\n",
    "def rotate(a): \n",
    "        return a[0] * np.sin(crossingangle) + a[1] * np.cos(crossingangle)"
   ]
  },
  {
   "cell_type": "code",
   "execution_count": null,
   "metadata": {},
   "outputs": [],
   "source": [
    "maxlist = []\n",
    "        \n",
    "for i in range(10000):\n",
    "        ECalArray = []\n",
    "        HCalArray = []\n",
    "        ZArray = []\n",
    "\n",
    "        SiArray = list(zip(SiliconHits_x[i], SiliconHits_z[i]))\n",
    "        CrystalArray = list(zip(CrystalHits_x[i], CrystalHits_z[i]))\n",
    "        WSiArray = list(zip(WSiHits_x[i], WSiHits_z[i]))\n",
    "\n",
    "        ECalArray.extend(SiArray)\n",
    "        ECalArray.extend(CrystalArray)\n",
    "        ECalArray.extend(WSiArray)\n",
    "\n",
    "        PbSiArray = list(zip(PbSiHits_x[i], PbSiHits_z[i]))\n",
    "        PbScintiArray = list(zip(PbScintiHits_x[i], PbScintiHits_z[i]))\n",
    "\n",
    "        HCalArray.extend(PbSiArray)\n",
    "        HCalArray.extend(PbScintiArray)\n",
    "\n",
    "        ZArray.extend(ECalArray)\n",
    "        ZArray.extend(HCalArray)\n",
    "\n",
    "        ZArray_rot = list(map(rotate, np.array(ZArray)))\n",
    "\n",
    "        maxlist.append(max(ZArray_rot, default=0))"
   ]
  },
  {
   "cell_type": "code",
   "execution_count": 110,
   "metadata": {},
   "outputs": [
    {
     "data": {
      "image/png": "[encoded data removed]",
      "text/plain": [
       "<Figure size 432x288 with 1 Axes>"
      ]
     },
     "metadata": {
      "needs_background": "light"
     },
     "output_type": "display_data"
    }
   ],
   "source": [
    "#Create histogram\n",
    "plt.hist(maxlist,bins=np.linspace(35600,37500,200));\n",
    "plt.xlabel(\"Maximum Penetration Depth\")\n",
    "plt.ylabel(\"Count\")\n",
    "plt.title(\"Penetration Depth (Neutron, 100GeV)\")\n",
    "plt.savefig(\"depth_100GeV.pdf\")"
   ]
  },
  {
   "cell_type": "code",
   "execution_count": null,
   "metadata": {},
   "outputs": [],
   "source": []
  }
 ],
 "metadata": {
  "kernelspec": {
   "display_name": "Python 3.6.8 64-bit",
   "language": "python",
   "name": "python3"
  },
  "language_info": {
   "codemirror_mode": {
    "name": "ipython",
    "version": 3
   },
   "file_extension": ".py",
   "mimetype": "text/x-python",
   "name": "python",
   "nbconvert_exporter": "python",
   "pygments_lexer": "ipython3",
   "version": "3.6.8"
  },
  "vscode": {
   "interpreter": {
    "hash": "916dbcbb3f70747c44a77c7bcd40155683ae19c65e1c03b4aa3499c5328201f1"
   }
  }
 },
 "nbformat": 4,
 "nbformat_minor": 2
}
